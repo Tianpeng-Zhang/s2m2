{
 "cells": [
  {
   "cell_type": "code",
   "execution_count": 6,
   "id": "15dcb178-6c7d-4ebd-a3b5-8a90523c856f",
   "metadata": {},
   "outputs": [
    {
     "name": "stdout",
     "output_type": "stream",
     "text": [
      "The autoreload extension is already loaded. To reload it, use:\n",
      "  %reload_ext autoreload\n"
     ]
    }
   ],
   "source": [
    "import sys\n",
    "sys.path.append('../')\n",
    "\n",
    "from util import make_rectangle_line,make_rectangle_center\n",
    "from problems.util import *\n",
    "from viz.util import plot_env,plot_goals,plot_thetas\n",
    "\n",
    "from matplotlib import pyplot as plt\n",
    "%load_ext autoreload\n",
    "%autoreload 2\n"
   ]
  },
  {
   "cell_type": "code",
   "execution_count": 26,
   "id": "bb907c63-648d-4297-b644-d1b11b545be7",
   "metadata": {},
   "outputs": [],
   "source": [
    "Obstacles = [make_rectangle_line(xmin=20,xmax=40, ymin=31, ymax=60),\n",
    "             make_rectangle_line(xmin=20,xmax=40, ymin=0, ymax=29)]\n",
    "\n",
    "Starts = [ [12, 30], [48, 30],\n",
    "          [12, 36], [48, 36],\n",
    "          # [12, 24], [48, 24]\n",
    "         ]\n",
    "\n",
    "Goals = []\n",
    "pGs = [[55, 30],[5, 30],\n",
    "       [55, 36],[5, 36],\n",
    "       # [55, 24],[5, 24]\n",
    "      ]\n",
    "lG = [4, 4]\n",
    "for pG in pGs:\n",
    "    Goals.append(make_rectangle_center(*pG,*lG))\n",
    "\n",
    "limits = [[0, 60], [0, 60]]"
   ]
  },
  {
   "cell_type": "code",
   "execution_count": 27,
   "id": "46bca38f-37ce-416a-b876-c2ba016115b9",
   "metadata": {},
   "outputs": [
    {
     "data": {
      "image/png": "[encoded data removed]",
      "text/plain": [
       "<Figure size 600x400 with 1 Axes>"
      ]
     },
     "metadata": {
      "needs_background": "light"
     },
     "output_type": "display_data"
    }
   ],
   "source": [
    "\n",
    "fig = plt.figure(dpi=100)\n",
    "fig, axes = plot_env(fig,limits, Obstacles)\n",
    "plot_goals(Goals)\n",
    "plot_thetas(Starts)\n",
    "plt.axis('on')\n",
    "axes.get_xaxis().set_visible(True)\n",
    "axes.get_yaxis().set_visible(True)\n",
    "plt.legend(loc='upper right')\n",
    "plt.show()"
   ]
  },
  {
   "cell_type": "code",
   "execution_count": 28,
   "id": "e7030170-6b5e-4ff3-a80b-92258bfcfc7e",
   "metadata": {},
   "outputs": [],
   "source": [
    "file_name = \"../problems/tunnel/problem.yaml\"\n",
    "name = \"tunnel\"\n",
    "\n",
    "size = 1\n",
    "velocity = 1\n",
    "k = [0.5, 0.5, 0.5]\n",
    "agents = [Car(size, velocity, k) for _ in range(len(Starts))]\n",
    "write_problem(file_name, name, limits, Obstacles, agents, Starts, Goals)"
   ]
  }
 ],
 "metadata": {
  "kernelspec": {
   "display_name": "Python 3",
   "language": "python",
   "name": "python3"
  },
  "language_info": {
   "codemirror_mode": {
    "name": "ipython",
    "version": 3
   },
   "file_extension": ".py",
   "mimetype": "text/x-python",
   "name": "python",
   "nbconvert_exporter": "python",
   "pygments_lexer": "ipython3",
   "version": "3.9.16"
  }
 },
 "nbformat": 4,
 "nbformat_minor": 5
}
